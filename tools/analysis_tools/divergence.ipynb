{
 "cells": [
  {
   "cell_type": "code",
   "execution_count": 1,
   "metadata": {},
   "outputs": [],
   "source": [
    "%load_ext autoreload\n",
    "%autoreload 2"
   ]
  },
  {
   "cell_type": "code",
   "execution_count": 99,
   "metadata": {},
   "outputs": [
    {
     "name": "stdout",
     "output_type": "stream",
     "text": [
      "prob_list (len=2, shape=torch.Size([4, 5]))\n",
      "tensor([[0.0574, 0.1247, 0.1373, 0.0528, 0.6277],\n",
      "        [0.1449, 0.0585, 0.2544, 0.1761, 0.3661],\n",
      "        [0.6641, 0.1031, 0.1206, 0.0611, 0.0511],\n",
      "        [0.0913, 0.0468, 0.1456, 0.1371, 0.5792]])\n",
      "tensor([[0.0787, 0.5575, 0.0605, 0.0735, 0.2297],\n",
      "        [0.1096, 0.3341, 0.2793, 0.0512, 0.2259],\n",
      "        [0.0477, 0.1337, 0.1687, 0.4489, 0.2009],\n",
      "        [0.6147, 0.0508, 0.0308, 0.0894, 0.2143]])\n",
      "\n",
      "targets (torch.Size([4, 5]))\n",
      "tensor([[1., 0., 0., 0., 0.],\n",
      "        [0., 0., 1., 0., 0.],\n",
      "        [0., 0., 0., 0., 1.],\n",
      "        [0., 0., 1., 0., 0.]])\n",
      "\n",
      "weights (torch.Size([3]))\n",
      "tensor([0.1000, 0.3000, 0.6000])\n",
      "\n"
     ]
    }
   ],
   "source": [
    "########################\n",
    "### Hyper-paramaters ###\n",
    "########################\n",
    "M = 3\n",
    "batch_size = 4\n",
    "dim = 5\n",
    "\n",
    "#######################\n",
    "### Generated Input ###\n",
    "#######################\n",
    "pred_list, prob_list = [], []\n",
    "for i in range(1, M, 1):\n",
    "    torch.manual_seed(i)\n",
    "    pred = torch.randn((batch_size, dim))\n",
    "    pred_list.append(pred)\n",
    "    prob_list.append(F.softmax(pred, dim=1))\n",
    "targets = F.one_hot(torch.tensor([0, 2, 4, 2]), num_classes=dim).float()\n",
    "weights = torch.tensor([0.1, 0.3, 0.6])\n",
    "print(f\"prob_list (len={len(prob_list)}, shape={prob_list[0].shape})\")\n",
    "for prob in prob_list:\n",
    "    print(prob)\n",
    "print('')\n",
    "print(f\"targets ({targets.shape})\")\n",
    "print(targets, end='\\n\\n')\n",
    "print(f\"weights ({weights.shape})\")\n",
    "print(weights, end='\\n\\n')"
   ]
  },
  {
   "cell_type": "code",
   "execution_count": 100,
   "metadata": {},
   "outputs": [
    {
     "name": "stdout",
     "output_type": "stream",
     "text": [
      "distribs (torch.Size([3, 4, 5]))\n",
      "tensor([[[1.0000, 0.0000, 0.0000, 0.0000, 0.0000],\n",
      "         [0.0000, 0.0000, 1.0000, 0.0000, 0.0000],\n",
      "         [0.0000, 0.0000, 0.0000, 0.0000, 1.0000],\n",
      "         [0.0000, 0.0000, 1.0000, 0.0000, 0.0000]],\n",
      "\n",
      "        [[0.0574, 0.1247, 0.1373, 0.0528, 0.6277],\n",
      "         [0.1449, 0.0585, 0.2544, 0.1761, 0.3661],\n",
      "         [0.6641, 0.1031, 0.1206, 0.0611, 0.0511],\n",
      "         [0.0913, 0.0468, 0.1456, 0.1371, 0.5792]],\n",
      "\n",
      "        [[0.0787, 0.5575, 0.0605, 0.0735, 0.2297],\n",
      "         [0.1096, 0.3341, 0.2793, 0.0512, 0.2259],\n",
      "         [0.0477, 0.1337, 0.1687, 0.4489, 0.2009],\n",
      "         [0.6147, 0.0508, 0.0308, 0.0894, 0.2143]]])\n"
     ]
    }
   ],
   "source": [
    "# Distributions contain [p1, p2, ..., pM] for pi has shape of (batch_size, dim)\n",
    "assert prob_list[0].shape == targets.shape\n",
    "distribs = [targets] + prob_list\n",
    "distribs = torch.stack(distribs, dim=0)     # (M, batch_size, dim)\n",
    "\n",
    "print(f\"distribs ({distribs.shape})\")\n",
    "print(distribs)"
   ]
  },
  {
   "cell_type": "code",
   "execution_count": 109,
   "metadata": {},
   "outputs": [
    {
     "name": "stdout",
     "output_type": "stream",
     "text": [
      "weighted_distrib (torch.Size([4, 5]))\n",
      "tensor([[0.1645, 0.3719, 0.0775, 0.0599, 0.3261],\n",
      "        [0.1092, 0.2180, 0.3439, 0.0835, 0.2454],\n",
      "        [0.2278, 0.1112, 0.1374, 0.2877, 0.2359],\n",
      "        [0.3962, 0.0446, 0.1621, 0.0948, 0.3023]])\n",
      "\n",
      "weighted_distrib_log (torch.Size([4, 5]))\n",
      "tensor([[-1.8050, -0.9890, -2.5575, -2.8143, -1.1204],\n",
      "        [-2.2145, -1.5233, -1.0674, -2.4826, -1.4051],\n",
      "        [-1.4791, -2.1967, -1.9848, -1.2458, -1.4444],\n",
      "        [-0.9258, -3.1109, -1.8193, -2.3563, -1.1962]])\n",
      "\n"
     ]
    }
   ],
   "source": [
    "# Weighted distributions: sum of {πj*pj} for j = 1, ..., M, where πj is j-th weight and pj is j-th prob_list\n",
    "# a.k.a. mixture\n",
    "assert len(weights) == len(distribs)\n",
    "weighted_distrib_list = []\n",
    "for i in range(len(weights)):\n",
    "    weighted_distrib_list.append(weights[i] * distribs[i])\n",
    "weighted_distrib = torch.stack(weighted_distrib_list, dim=0)\n",
    "weighted_distrib = torch.sum(weighted_distrib, dim=0)\n",
    "weighted_distrib_log = weighted_distrib.clamp(1e-7, 1.0).log()       # (batch_size, dim)\n",
    "print(f\"weighted_distrib ({weighted_distrib.shape})\")\n",
    "print(weighted_distrib, end='\\n\\n')\n",
    "print(f\"weighted_distrib_log ({weighted_distrib_log.shape})\")\n",
    "print(weighted_distrib_log, end='\\n\\n')"
   ]
  },
  {
   "cell_type": "code",
   "execution_count": 110,
   "metadata": {},
   "outputs": [
    {
     "name": "stdout",
     "output_type": "stream",
     "text": [
      "weighted_jsd (torch.Size([]))\n",
      "tensor(0.0622)\n"
     ]
    }
   ],
   "source": [
    "# Weighted KLD: sum of {πi*KLD(pi||sum(πj*pj))} for i = 1, ..., M\n",
    "weighted_kld_list = []\n",
    "for i in range(len(weights)):\n",
    "    # NOTE: weighted_jsd has same shape with weighted_kld\n",
    "    weighted_kld = weights[i] * kl_div(weighted_distrib_log, distribs[i], reduction=reduction)\n",
    "    weighted_kld_list.append(weighted_kld)\n",
    "weighted_jsd = torch.stack(weighted_kld_list, dim=0)\n",
    "weighted_jsd = torch.sum(weighted_jsd, dim=0)\n",
    "\n",
    "print(f\"weighted_jsd ({weighted_jsd.shape})\")\n",
    "print(weighted_jsd)"
   ]
  },
  {
   "cell_type": "code",
   "execution_count": 112,
   "metadata": {},
   "outputs": [
    {
     "data": {
      "text/plain": [
       "tensor(0.0622)"
      ]
     },
     "execution_count": 112,
     "metadata": {},
     "output_type": "execute_result"
    }
   ],
   "source": [
    "from mmdet.models.losses.ai28.divergence import WeightedGeneralizedJSD\n",
    "wgjsd = WeightedGeneralizedJSD(weights)\n",
    "wgjsd(prob_list, targets)"
   ]
  }
 ],
 "metadata": {
  "kernelspec": {
   "display_name": "Python 3 (ipykernel)",
   "language": "python",
   "name": "python3"
  },
  "language_info": {
   "codemirror_mode": {
    "name": "ipython",
    "version": 3
   },
   "file_extension": ".py",
   "mimetype": "text/x-python",
   "name": "python",
   "nbconvert_exporter": "python",
   "pygments_lexer": "ipython3",
   "version": "3.7.7"
  }
 },
 "nbformat": 4,
 "nbformat_minor": 1
}